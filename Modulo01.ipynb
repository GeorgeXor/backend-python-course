{
 "cells": [
  {
   "cell_type": "code",
   "execution_count": 1,
   "id": "5ebc4094",
   "metadata": {},
   "outputs": [
    {
     "name": "stdout",
     "output_type": "stream",
     "text": [
      "Hello World\n"
     ]
    }
   ],
   "source": [
    "print(\"Hello World\")"
   ]
  },
  {
   "cell_type": "code",
   "execution_count": 2,
   "id": "83cc6d9c",
   "metadata": {},
   "outputs": [
    {
     "name": "stdout",
     "output_type": "stream",
     "text": [
      "Hola mi nombre es Jorge\n"
     ]
    }
   ],
   "source": [
    "print(\"Hola mi nombre es Jorge\")"
   ]
  },
  {
   "cell_type": "code",
   "execution_count": 3,
   "id": "1d616b4e",
   "metadata": {},
   "outputs": [
    {
     "name": "stdout",
     "output_type": "stream",
     "text": [
      "Cual es tu Nombre: Jorge\n",
      "Tu nombre es: Jorge\n"
     ]
    }
   ],
   "source": [
    "name = input(\"Cual es tu Nombre: \")\n",
    "print(f\"Tu nombre es: {name}\")"
   ]
  },
  {
   "cell_type": "code",
   "execution_count": null,
   "id": "4c5c4c1c",
   "metadata": {},
   "outputs": [],
   "source": []
  }
 ],
 "metadata": {
  "kernelspec": {
   "display_name": "Python 3 (ipykernel)",
   "language": "python",
   "name": "python3"
  },
  "language_info": {
   "codemirror_mode": {
    "name": "ipython",
    "version": 3
   },
   "file_extension": ".py",
   "mimetype": "text/x-python",
   "name": "python",
   "nbconvert_exporter": "python",
   "pygments_lexer": "ipython3",
   "version": "3.11.5"
  }
 },
 "nbformat": 4,
 "nbformat_minor": 5
}
