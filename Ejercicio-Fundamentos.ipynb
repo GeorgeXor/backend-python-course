{
 "cells": [
  {
   "cell_type": "code",
   "execution_count": 1,
   "id": "62461901",
   "metadata": {},
   "outputs": [
    {
     "name": "stdout",
     "output_type": "stream",
     "text": [
      "Ingresa un Numero Entero: 10\n",
      "Ingresa un numero Decimal: 10.5\n",
      "Ingresa un texto: Estoy practicando el Curso\n"
     ]
    }
   ],
   "source": [
    "numeroEntero = int(input(\"Ingresa un Numero Entero: \"))\n",
    "numerfloat = float(input(\"Ingresa un numero Decimal: \"))\n",
    "cadena = input(\"Ingresa un texto: \")"
   ]
  },
  {
   "cell_type": "code",
   "execution_count": 2,
   "id": "7091c8aa",
   "metadata": {},
   "outputs": [
    {
     "name": "stdout",
     "output_type": "stream",
     "text": [
      "El 10 es de tipo <class 'int'>\n",
      "El 10.5 es de tipo <class 'float'>\n",
      "El Estoy practicando el Curso es de tipo <class 'str'>\n"
     ]
    }
   ],
   "source": [
    "print(f\"El {numeroEntero} es de tipo {type(numeroEntero)}\")\n",
    "print(f\"El {numerfloat} es de tipo {type(numerfloat)}\")\n",
    "print(f\"El {cadena} es de tipo {type(cadena)}\")"
   ]
  },
  {
   "cell_type": "code",
   "execution_count": null,
   "id": "fd320ac4",
   "metadata": {},
   "outputs": [],
   "source": []
  }
 ],
 "metadata": {
  "kernelspec": {
   "display_name": "Python 3 (ipykernel)",
   "language": "python",
   "name": "python3"
  },
  "language_info": {
   "codemirror_mode": {
    "name": "ipython",
    "version": 3
   },
   "file_extension": ".py",
   "mimetype": "text/x-python",
   "name": "python",
   "nbconvert_exporter": "python",
   "pygments_lexer": "ipython3",
   "version": "3.11.5"
  }
 },
 "nbformat": 4,
 "nbformat_minor": 5
}
